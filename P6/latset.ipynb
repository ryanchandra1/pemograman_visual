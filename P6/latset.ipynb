{
 "cells": [
  {
   "cell_type": "code",
   "execution_count": 22,
   "metadata": {},
   "outputs": [
    {
     "name": "stdout",
     "output_type": "stream",
     "text": [
      "\n",
      "\n",
      "\n",
      "Belanja Pakaian\n",
      "=================================\n"
     ]
    }
   ],
   "source": [
    "set_1 = {\"Kaos Lengan Pendek\", \"Kaos Lengan Panjang\", \"Kemeja\", \"Celana Jeans\", \"Celana Bahan\"}\n",
    "print(\"\\n\\n\")\n",
    "print(\"Belanja Pakaian\")\n",
    "print(\"=================================\")\n"
   ]
  },
  {
   "cell_type": "code",
   "execution_count": 23,
   "metadata": {},
   "outputs": [
    {
     "name": "stdout",
     "output_type": "stream",
     "text": [
      "Di pagi yang cerah berseri, \n",
      "Berkunjung ke toko yang sejuk hati, \n",
      "Pilih-pilih barang tanpa ragu,\n",
      "Belanja senang, hati pun happy.\n"
     ]
    }
   ],
   "source": [
    "print(\"Di pagi yang cerah berseri, \\nBerkunjung ke toko yang sejuk hati, \\nPilih-pilih barang tanpa ragu,\\nBelanja senang, hati pun happy.\")\n"
   ]
  },
  {
   "cell_type": "code",
   "execution_count": 24,
   "metadata": {},
   "outputs": [
    {
     "name": "stdout",
     "output_type": "stream",
     "text": [
      "Halo Kamil Belanja apa?\n"
     ]
    }
   ],
   "source": [
    "print(\"Halo Kamil Belanja apa?\")\n",
    "\n"
   ]
  },
  {
   "cell_type": "code",
   "execution_count": 25,
   "metadata": {},
   "outputs": [
    {
     "name": "stdout",
     "output_type": "stream",
     "text": [
      "--------------------------------------\n",
      "Pilihan Baju\n",
      "--------------------------------------\n",
      "Kemeja\n",
      "Kaos Lengan Pendek\n",
      "Celana Bahan\n",
      "Celana Jeans\n",
      "Kaos Lengan Panjang\n",
      "--------------------------------------\n"
     ]
    }
   ],
   "source": [
    "print(\"--------------------------------------\")\n",
    "print(\"Pilihan Baju\")\n",
    "print(\"--------------------------------------\")\n",
    "for x in set_1:\n",
    "    print(x)\n",
    "print(\"--------------------------------------\")"
   ]
  },
  {
   "cell_type": "code",
   "execution_count": 26,
   "metadata": {},
   "outputs": [
    {
     "name": "stdout",
     "output_type": "stream",
     "text": [
      "Kamil Bertanya : \n",
      "Apakah Mobil ada?\n",
      "--------------------------------------\n"
     ]
    }
   ],
   "source": [
    "print(\"Kamil Bertanya : \\nApakah Mobil ada?\")\n",
    "print(\"--------------------------------------\")\n"
   ]
  },
  {
   "cell_type": "code",
   "execution_count": 27,
   "metadata": {},
   "outputs": [
    {
     "name": "stdout",
     "output_type": "stream",
     "text": [
      "Susanto Melihat\n",
      "--------------------------------------\n",
      "Checking : \n",
      "Tidak 'Mobil' tidak ada dalam penjualan kami\n"
     ]
    }
   ],
   "source": [
    "print(\"Susanto Melihat\")\n",
    "print(\"--------------------------------------\")\n",
    "print(\"Checking : \")\n",
    "if \"Mobil\" in set_1:\n",
    "    print(\"Iya, 'Mobil' ada dalam penjualan kami\")\n",
    "else :\n",
    "    print(\"Tidak 'Mobil' tidak ada dalam penjualan kami\")"
   ]
  },
  {
   "cell_type": "code",
   "execution_count": 28,
   "metadata": {},
   "outputs": [
    {
     "name": "stdout",
     "output_type": "stream",
     "text": [
      "Kamil Berbicara : \n",
      "oke saya ke toko sebelah\n",
      "--------------------------------------\n"
     ]
    }
   ],
   "source": [
    "print(\"Kamil Berbicara : \\noke saya ke toko sebelah\")\n",
    "print(\"--------------------------------------\")"
   ]
  },
  {
   "cell_type": "code",
   "execution_count": 29,
   "metadata": {},
   "outputs": [
    {
     "name": "stdout",
     "output_type": "stream",
     "text": [
      "Susanto Berbicara : \n",
      "Baik termakasih telah berkunjung\n",
      "--------------------------------------\n"
     ]
    }
   ],
   "source": [
    "print(\"Susanto Berbicara : \\nBaik termakasih telah berkunjung\")\n",
    "print(\"--------------------------------------\")"
   ]
  },
  {
   "cell_type": "code",
   "execution_count": 30,
   "metadata": {},
   "outputs": [
    {
     "name": "stdout",
     "output_type": "stream",
     "text": [
      "Paryun Datang lalu bertanya : \n",
      "Apakah ada Celana Jeans?\n",
      "--------------------------------------\n"
     ]
    }
   ],
   "source": [
    "print(\"Paryun Datang lalu bertanya : \\nApakah ada Celana Jeans?\")\n",
    "print(\"--------------------------------------\")"
   ]
  },
  {
   "cell_type": "code",
   "execution_count": 31,
   "metadata": {},
   "outputs": [
    {
     "name": "stdout",
     "output_type": "stream",
     "text": [
      "Susanto Melihat\n",
      "--------------------------------------\n",
      "Checking : \n",
      "Iya, 'Celana Jeans' ada dalam penjualan kami\n"
     ]
    }
   ],
   "source": [
    "print(\"Susanto Melihat\")\n",
    "print(\"--------------------------------------\")\n",
    "print(\"Checking : \")\n",
    "if \"Celana Jeans\" in set_1:\n",
    "    print(\"Iya, 'Celana Jeans' ada dalam penjualan kami\")\n",
    "else :\n",
    "    print(\"Tidak 'Celana Jeans' tidak ada dalam penjualan kami\")"
   ]
  },
  {
   "cell_type": "code",
   "execution_count": 32,
   "metadata": {},
   "outputs": [
    {
     "name": "stdout",
     "output_type": "stream",
     "text": [
      "Paryun Berbicara : \n",
      "Saya mau beli Celana Jeans\n",
      "--------------------------------------\n"
     ]
    }
   ],
   "source": [
    "print(\"Paryun Berbicara : \\nSaya mau beli Celana Jeans\")\n",
    "print(\"--------------------------------------\")"
   ]
  },
  {
   "cell_type": "code",
   "execution_count": 33,
   "metadata": {},
   "outputs": [
    {
     "name": "stdout",
     "output_type": "stream",
     "text": [
      "Susanto Berbicara : \n",
      "Baik saya akan kemas Celana Jeans untuk Anda\n",
      "--------------------------------------\n",
      "Barang di toko kami ada :  5\n"
     ]
    }
   ],
   "source": [
    "print(\"Susanto Berbicara : \\nBaik saya akan kemas Celana Jeans untuk Anda\")\n",
    "print(\"--------------------------------------\")\n",
    "print(\"Barang di toko kami ada : \", len(set_1))"
   ]
  },
  {
   "cell_type": "code",
   "execution_count": 34,
   "metadata": {},
   "outputs": [
    {
     "name": "stdout",
     "output_type": "stream",
     "text": [
      "{'Kemeja', 'Kaos Lengan Pendek', 'Celana Bahan', 'Kaos Lengan Panjang'}\n"
     ]
    }
   ],
   "source": [
    "set_1.remove(\"Celana Jeans\")\n",
    "print(set_1)"
   ]
  },
  {
   "cell_type": "code",
   "execution_count": 35,
   "metadata": {},
   "outputs": [
    {
     "name": "stdout",
     "output_type": "stream",
     "text": [
      "Barang di toko kami ada :  4\n"
     ]
    }
   ],
   "source": [
    "print(\"Barang di toko kami ada : \", len(set_1))"
   ]
  },
  {
   "cell_type": "code",
   "execution_count": 36,
   "metadata": {},
   "outputs": [
    {
     "name": "stdout",
     "output_type": "stream",
     "text": [
      "Loseiento Datang lalu Berbicara : \n",
      "Saya mau beli Kaos Lengan Panjang\n",
      "Apakah ada?\n",
      "--------------------------------------\n"
     ]
    }
   ],
   "source": [
    "print(\"Loseiento Datang lalu Berbicara : \\nSaya mau beli Kaos Lengan Panjang\\nApakah ada?\")\n",
    "print(\"--------------------------------------\")"
   ]
  },
  {
   "cell_type": "code",
   "execution_count": 37,
   "metadata": {},
   "outputs": [
    {
     "name": "stdout",
     "output_type": "stream",
     "text": [
      "Susanto Melihat\n",
      "--------------------------------------\n",
      "Checking : \n",
      "Iya, 'Kaos Lengan Panjang' ada dalam penjualan kami\n"
     ]
    }
   ],
   "source": [
    "print(\"Susanto Melihat\")\n",
    "print(\"--------------------------------------\")\n",
    "print(\"Checking : \")\n",
    "if \"Kaos Lengan Panjang\" in set_1:\n",
    "    print(\"Iya, 'Kaos Lengan Panjang' ada dalam penjualan kami\")\n",
    "else :\n",
    "    print(\"Tidak 'Kaos Lengan Panjang' tidak ada dalam penjualan kami\")"
   ]
  },
  {
   "cell_type": "code",
   "execution_count": 38,
   "metadata": {},
   "outputs": [
    {
     "name": "stdout",
     "output_type": "stream",
     "text": [
      "Losiento Berbicara : \n",
      "Saya mau beli Kaos Lengan Panjang\n",
      "--------------------------------------\n"
     ]
    }
   ],
   "source": [
    "print(\"Losiento Berbicara : \\nSaya mau beli Kaos Lengan Panjang\")\n",
    "print(\"--------------------------------------\")"
   ]
  },
  {
   "cell_type": "code",
   "execution_count": 39,
   "metadata": {},
   "outputs": [
    {
     "name": "stdout",
     "output_type": "stream",
     "text": [
      "Susanto Berbicara : \n",
      "Baik saya akan kemas Kaos Lengan Panjang untuk Anda\n",
      "--------------------------------------\n",
      "Barang di toko kami ada :  4\n"
     ]
    }
   ],
   "source": [
    "print(\"Susanto Berbicara : \\nBaik saya akan kemas Kaos Lengan Panjang untuk Anda\")\n",
    "print(\"--------------------------------------\")\n",
    "print(\"Barang di toko kami ada : \", len(set_1))"
   ]
  },
  {
   "cell_type": "code",
   "execution_count": 40,
   "metadata": {},
   "outputs": [
    {
     "name": "stdout",
     "output_type": "stream",
     "text": [
      "{'Kemeja', 'Kaos Lengan Pendek', 'Celana Bahan'}\n"
     ]
    }
   ],
   "source": [
    "set_1.remove(\"Kaos Lengan Panjang\")\n",
    "print(set_1)"
   ]
  },
  {
   "cell_type": "code",
   "execution_count": 41,
   "metadata": {},
   "outputs": [
    {
     "name": "stdout",
     "output_type": "stream",
     "text": [
      "Barang di toko kami ada :  3\n",
      "Sisa Pakaian :  {'Kemeja', 'Kaos Lengan Pendek', 'Celana Bahan'}\n"
     ]
    }
   ],
   "source": [
    "print(\"Barang di toko kami ada : \", len(set_1))\n",
    "print(\"Sisa Pakaian : \",set_1)"
   ]
  }
 ],
 "metadata": {
  "kernelspec": {
   "display_name": "Python 3",
   "language": "python",
   "name": "python3"
  },
  "language_info": {
   "codemirror_mode": {
    "name": "ipython",
    "version": 3
   },
   "file_extension": ".py",
   "mimetype": "text/x-python",
   "name": "python",
   "nbconvert_exporter": "python",
   "pygments_lexer": "ipython3",
   "version": "3.11.8"
  }
 },
 "nbformat": 4,
 "nbformat_minor": 2
}
