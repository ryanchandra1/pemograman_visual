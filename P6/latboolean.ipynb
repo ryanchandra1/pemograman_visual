{
 "cells": [
  {
   "cell_type": "code",
   "execution_count": 70,
   "metadata": {},
   "outputs": [],
   "source": [
    "a= float(input(\"Masukkan a angka : \"))\n",
    "b= float(input(\"Masukkan b angka : \"))"
   ]
  },
  {
   "cell_type": "code",
   "execution_count": 71,
   "metadata": {},
   "outputs": [
    {
     "name": "stdout",
     "output_type": "stream",
     "text": [
      "Nilai A :  1000000.0\n",
      "Nilai B :  90000000.0\n"
     ]
    }
   ],
   "source": [
    "print(\"Nilai A : \", a)\n",
    "print(\"Nilai B : \", b)"
   ]
  },
  {
   "cell_type": "code",
   "execution_count": 72,
   "metadata": {},
   "outputs": [
    {
     "name": "stdout",
     "output_type": "stream",
     "text": [
      "a lebih besar dari b :  False\n"
     ]
    }
   ],
   "source": [
    "print(\"a lebih besar dari b : \", a > b)"
   ]
  },
  {
   "cell_type": "code",
   "execution_count": 73,
   "metadata": {},
   "outputs": [
    {
     "name": "stdout",
     "output_type": "stream",
     "text": [
      "b lebih besar dari a :  True\n"
     ]
    }
   ],
   "source": [
    "print(\"b lebih besar dari a : \", b > a)"
   ]
  },
  {
   "cell_type": "code",
   "execution_count": 74,
   "metadata": {},
   "outputs": [
    {
     "name": "stdout",
     "output_type": "stream",
     "text": [
      "a sama dengan b :  False\n"
     ]
    }
   ],
   "source": [
    "print(\"a sama dengan b : \", a == b)"
   ]
  },
  {
   "cell_type": "code",
   "execution_count": 75,
   "metadata": {},
   "outputs": [
    {
     "name": "stdout",
     "output_type": "stream",
     "text": [
      "PPN a :  120000.0\n"
     ]
    }
   ],
   "source": [
    "#ppna = 0\n",
    "if a > 10000 :\n",
    "    ppna = 0.12 * a\n",
    "\n",
    "    \n",
    "print(\"PPN a : \",ppna)"
   ]
  },
  {
   "cell_type": "code",
   "execution_count": 76,
   "metadata": {},
   "outputs": [
    {
     "name": "stdout",
     "output_type": "stream",
     "text": [
      "PPN b :  10800000.0\n"
     ]
    }
   ],
   "source": [
    "#ppnb = 0\n",
    "if b > 50000 :\n",
    "    ppnb = 0.12 * b\n",
    "\n",
    "    \n",
    "print(\"PPN b : \", ppnb)"
   ]
  },
  {
   "cell_type": "code",
   "execution_count": 77,
   "metadata": {},
   "outputs": [
    {
     "name": "stdout",
     "output_type": "stream",
     "text": [
      "Total PPN :  10920000.0\n"
     ]
    }
   ],
   "source": [
    "ppntotal = ppna+ppnb\n",
    "print(\"Total PPN : \",ppntotal)"
   ]
  },
  {
   "cell_type": "code",
   "execution_count": 78,
   "metadata": {},
   "outputs": [],
   "source": [
    "del a, b"
   ]
  },
  {
   "cell_type": "code",
   "execution_count": 79,
   "metadata": {},
   "outputs": [
    {
     "name": "stdout",
     "output_type": "stream",
     "text": [
      "a dihapus:  True\n",
      "b dihapus:  True\n"
     ]
    }
   ],
   "source": [
    "print(\"a dihapus: \", 'a' not in globals())\n",
    "print(\"b dihapus: \", 'b' not in globals())"
   ]
  }
 ],
 "metadata": {
  "kernelspec": {
   "display_name": "Python 3",
   "language": "python",
   "name": "python3"
  },
  "language_info": {
   "codemirror_mode": {
    "name": "ipython",
    "version": 3
   },
   "file_extension": ".py",
   "mimetype": "text/x-python",
   "name": "python",
   "nbconvert_exporter": "python",
   "pygments_lexer": "ipython3",
   "version": "3.11.8"
  }
 },
 "nbformat": 4,
 "nbformat_minor": 2
}
